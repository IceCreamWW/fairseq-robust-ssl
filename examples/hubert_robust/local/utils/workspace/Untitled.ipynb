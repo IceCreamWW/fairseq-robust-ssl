{
 "cells": [
  {
   "cell_type": "code",
   "execution_count": null,
   "id": "a717591a-dcc9-42aa-a08a-1d1d06f424c4",
   "metadata": {},
   "outputs": [],
   "source": [
    "import kaldiio\n",
    "import sys, os\n"
   ]
  },
  {
   "cell_type": "code",
   "execution_count": null,
   "id": "741e2589-cf22-439c-aec7-64a1ea06615b",
   "metadata": {},
   "outputs": [],
   "source": [
    "path_to_musan"
   ]
  }
 ],
 "metadata": {
  "kernelspec": {
   "display_name": "Python 3 (ipykernel)",
   "language": "python",
   "name": "python3"
  },
  "language_info": {
   "codemirror_mode": {
    "name": "ipython",
    "version": 3
   },
   "file_extension": ".py",
   "mimetype": "text/x-python",
   "name": "python",
   "nbconvert_exporter": "python",
   "pygments_lexer": "ipython3",
   "version": "3.10.4"
  }
 },
 "nbformat": 4,
 "nbformat_minor": 5
}
